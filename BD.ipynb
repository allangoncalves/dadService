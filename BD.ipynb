{
 "cells": [
  {
   "cell_type": "code",
   "execution_count": 1,
   "metadata": {
    "collapsed": true
   },
   "outputs": [],
   "source": [
    "import pandas as pd\n",
    "import unicodedata\n",
    "import datetime"
   ]
  },
  {
   "cell_type": "code",
   "execution_count": 2,
   "metadata": {
    "collapsed": true
   },
   "outputs": [],
   "source": [
    "url_componentes = 'componentes-graduacao.csv'\n",
    "url_unidades = 'http://dados.ufrn.br/dataset/da6451a5-1a59-4630-bdc2-97f6be4a59c2/resource/3f2e4e32-ef1a-4396-8037-cbc22a89d97f/download/unidades.csv'\n",
    "url_docentes = 'http://dados.ufrn.br/dataset/8bf1a468-48ff-4f4d-95ee-b17b7a3a5592/resource/ff0a457e-76fa-4aca-ad99-48aebd7db070/download/docentes.csv'\n",
    "url_avaliacoes = 'http://dados.ufrn.br/dataset/d5723d75-7e6e-4264-82aa-b96909b69f63/resource/7accd1d2-2793-460e-b98d-87a0679b9155/download/avaliacaodocencia.csv'"
   ]
  },
  {
   "cell_type": "code",
   "execution_count": 3,
   "metadata": {
    "scrolled": false
   },
   "outputs": [
    {
     "data": {
      "text/html": [
       "<div>\n",
       "<style>\n",
       "    .dataframe thead tr:only-child th {\n",
       "        text-align: right;\n",
       "    }\n",
       "\n",
       "    .dataframe thead th {\n",
       "        text-align: left;\n",
       "    }\n",
       "\n",
       "    .dataframe tbody tr th {\n",
       "        vertical-align: top;\n",
       "    }\n",
       "</style>\n",
       "<table border=\"1\" class=\"dataframe\">\n",
       "  <thead>\n",
       "    <tr style=\"text-align: right;\">\n",
       "      <th></th>\n",
       "      <th>id_unidade</th>\n",
       "      <th>lotacao</th>\n",
       "    </tr>\n",
       "  </thead>\n",
       "  <tbody>\n",
       "    <tr>\n",
       "      <th>0</th>\n",
       "      <td>125</td>\n",
       "      <td>DEPARTAMENTO DE INFORMATICA E MATEMATICA APLICADA</td>\n",
       "    </tr>\n",
       "    <tr>\n",
       "      <th>1</th>\n",
       "      <td>6069</td>\n",
       "      <td>INSTITUTO METROPOLE DIGITAL</td>\n",
       "    </tr>\n",
       "  </tbody>\n",
       "</table>\n",
       "</div>"
      ],
      "text/plain": [
       "   id_unidade                                            lotacao\n",
       "0         125  DEPARTAMENTO DE INFORMATICA E MATEMATICA APLICADA\n",
       "1        6069                        INSTITUTO METROPOLE DIGITAL"
      ]
     },
     "execution_count": 3,
     "metadata": {},
     "output_type": "execute_result"
    }
   ],
   "source": [
    "df_unidades = pd.read_csv(url_unidades, ';')\n",
    "df_unidades = df_unidades[['id_unidade_responsavel', 'unidade_responsavel']]\n",
    "df_unidades.rename(columns={'id_unidade_responsavel': 'id_unidade', 'unidade_responsavel': 'lotacao'}, inplace=True)\n",
    "df_unidades = df_unidades[(df_unidades['lotacao'] == 'DEPARTAMENTO DE INFORMATICA E MATEMATICA APLICADA') | (df_unidades['lotacao'] == 'INSTITUTO METROPOLE DIGITAL')].drop_duplicates()\n",
    "df_unidades.reset_index(inplace=True, drop=True)\n",
    "df_unidades.head()"
   ]
  },
  {
   "cell_type": "code",
   "execution_count": 4,
   "metadata": {},
   "outputs": [
    {
     "data": {
      "text/plain": [
       "Index([u'id_servidor', u'siape', u'nome', u'formacao',\n",
       "       u'tipo_jornada_trabalho', u'vinculo', u'categoria', u'classe_funcional',\n",
       "       u'id_unidade_lotacao', u'lotacao', u'admissao', u'Unnamed: 11'],\n",
       "      dtype='object')"
      ]
     },
     "execution_count": 4,
     "metadata": {},
     "output_type": "execute_result"
    }
   ],
   "source": [
    "df_docentes = pd.read_csv(url_docentes, ';')\n",
    "df_docentes.columns"
   ]
  },
  {
   "cell_type": "code",
   "execution_count": 5,
   "metadata": {
    "collapsed": true,
    "scrolled": true
   },
   "outputs": [],
   "source": [
    "df_docentes = df_docentes[df_docentes['categoria'] == 'PROFESSOR DO MAGISTERIO SUPERIOR']"
   ]
  },
  {
   "cell_type": "code",
   "execution_count": 6,
   "metadata": {
    "scrolled": true
   },
   "outputs": [
    {
     "data": {
      "text/html": [
       "<div>\n",
       "<style>\n",
       "    .dataframe thead tr:only-child th {\n",
       "        text-align: right;\n",
       "    }\n",
       "\n",
       "    .dataframe thead th {\n",
       "        text-align: left;\n",
       "    }\n",
       "\n",
       "    .dataframe tbody tr th {\n",
       "        vertical-align: top;\n",
       "    }\n",
       "</style>\n",
       "<table border=\"1\" class=\"dataframe\">\n",
       "  <thead>\n",
       "    <tr style=\"text-align: right;\">\n",
       "      <th></th>\n",
       "      <th>id_docente</th>\n",
       "      <th>nome</th>\n",
       "      <th>formacao</th>\n",
       "      <th>id_unidade</th>\n",
       "      <th>data_admissao</th>\n",
       "    </tr>\n",
       "  </thead>\n",
       "  <tbody>\n",
       "    <tr>\n",
       "      <th>0</th>\n",
       "      <td>5755281</td>\n",
       "      <td>ADJA FERREIRA DE ANDRADE</td>\n",
       "      <td>DOUTORADO</td>\n",
       "      <td>6069</td>\n",
       "      <td>2012-11-01</td>\n",
       "    </tr>\n",
       "    <tr>\n",
       "      <th>1</th>\n",
       "      <td>5755819</td>\n",
       "      <td>ANDERSON PAIVA CRUZ</td>\n",
       "      <td>DOUTORADO</td>\n",
       "      <td>6069</td>\n",
       "      <td>2013-04-25</td>\n",
       "    </tr>\n",
       "    <tr>\n",
       "      <th>2</th>\n",
       "      <td>5757969</td>\n",
       "      <td>ANDRE LUIZ DA SILVA SOLINO</td>\n",
       "      <td>MESTRADO</td>\n",
       "      <td>6069</td>\n",
       "      <td>2016-01-19</td>\n",
       "    </tr>\n",
       "    <tr>\n",
       "      <th>3</th>\n",
       "      <td>5759298</td>\n",
       "      <td>ANNA GISELLE CAMARA DANTAS RIBEIRO RODRIGUES</td>\n",
       "      <td>DOUTORADO</td>\n",
       "      <td>6069</td>\n",
       "      <td>2017-05-26</td>\n",
       "    </tr>\n",
       "    <tr>\n",
       "      <th>4</th>\n",
       "      <td>3032089</td>\n",
       "      <td>APUENA VIEIRA GOMES</td>\n",
       "      <td>DOUTORADO</td>\n",
       "      <td>6069</td>\n",
       "      <td>2006-08-25</td>\n",
       "    </tr>\n",
       "  </tbody>\n",
       "</table>\n",
       "</div>"
      ],
      "text/plain": [
       "   id_docente                                          nome   formacao  \\\n",
       "0     5755281                      ADJA FERREIRA DE ANDRADE  DOUTORADO   \n",
       "1     5755819                           ANDERSON PAIVA CRUZ  DOUTORADO   \n",
       "2     5757969                    ANDRE LUIZ DA SILVA SOLINO   MESTRADO   \n",
       "3     5759298  ANNA GISELLE CAMARA DANTAS RIBEIRO RODRIGUES  DOUTORADO   \n",
       "4     3032089                           APUENA VIEIRA GOMES  DOUTORADO   \n",
       "\n",
       "   id_unidade data_admissao  \n",
       "0        6069    2012-11-01  \n",
       "1        6069    2013-04-25  \n",
       "2        6069    2016-01-19  \n",
       "3        6069    2017-05-26  \n",
       "4        6069    2006-08-25  "
      ]
     },
     "execution_count": 6,
     "metadata": {},
     "output_type": "execute_result"
    }
   ],
   "source": [
    "df_docentes = df_docentes[['id_servidor', 'nome', 'formacao', 'id_unidade_lotacao', 'admissao']]\n",
    "df_docentes.rename(columns={'id_servidor': 'id_docente', 'admissao': 'data_admissao', 'id_unidade_lotacao': 'id_unidade'}, inplace=True)\n",
    "df_docentes = df_docentes.merge(df_unidades[['id_unidade']], on='id_unidade', how='inner')\n",
    "df_docentes['data_admissao'] = [ data.date() for data in pd.to_datetime(df_docentes['data_admissao'])]\n",
    "df_docentes.head()"
   ]
  },
  {
   "cell_type": "code",
   "execution_count": 7,
   "metadata": {},
   "outputs": [
    {
     "data": {
      "text/html": [
       "<div>\n",
       "<style>\n",
       "    .dataframe thead tr:only-child th {\n",
       "        text-align: right;\n",
       "    }\n",
       "\n",
       "    .dataframe thead th {\n",
       "        text-align: left;\n",
       "    }\n",
       "\n",
       "    .dataframe tbody tr th {\n",
       "        vertical-align: top;\n",
       "    }\n",
       "</style>\n",
       "<table border=\"1\" class=\"dataframe\">\n",
       "  <thead>\n",
       "    <tr style=\"text-align: right;\">\n",
       "      <th></th>\n",
       "      <th>id_componente</th>\n",
       "      <th>codigo</th>\n",
       "      <th>nivel</th>\n",
       "      <th>nome</th>\n",
       "      <th>unidade_responsavel</th>\n",
       "    </tr>\n",
       "  </thead>\n",
       "  <tbody>\n",
       "    <tr>\n",
       "      <th>6</th>\n",
       "      <td>20007</td>\n",
       "      <td>DIM0072</td>\n",
       "      <td>G</td>\n",
       "      <td>TECNICAS DE ESPECIFICACAO FORMAL</td>\n",
       "      <td>DEPARTAMENTO DE INFORMÁTICA E MATEMÁTICA APLICADA</td>\n",
       "    </tr>\n",
       "    <tr>\n",
       "      <th>1033</th>\n",
       "      <td>21073</td>\n",
       "      <td>DIM0056</td>\n",
       "      <td>G</td>\n",
       "      <td>SOFTWARE BASICO</td>\n",
       "      <td>DEPARTAMENTO DE INFORMÁTICA E MATEMÁTICA APLICADA</td>\n",
       "    </tr>\n",
       "    <tr>\n",
       "      <th>1043</th>\n",
       "      <td>21083</td>\n",
       "      <td>DIM0346</td>\n",
       "      <td>G</td>\n",
       "      <td>GERENCIAMENTO E SEGURANCA EM REDES DE COMPUTAD...</td>\n",
       "      <td>DEPARTAMENTO DE INFORMÁTICA E MATEMÁTICA APLICADA</td>\n",
       "    </tr>\n",
       "    <tr>\n",
       "      <th>1619</th>\n",
       "      <td>21667</td>\n",
       "      <td>DIM0046</td>\n",
       "      <td>G</td>\n",
       "      <td>ALGORITMOS E TECNICAS DE PROGRAMACAO</td>\n",
       "      <td>DEPARTAMENTO DE INFORMÁTICA E MATEMÁTICA APLICADA</td>\n",
       "    </tr>\n",
       "    <tr>\n",
       "      <th>1620</th>\n",
       "      <td>21668</td>\n",
       "      <td>DIM0003</td>\n",
       "      <td>G</td>\n",
       "      <td>ORGANIZACAO DE COMPUTADORES</td>\n",
       "      <td>DEPARTAMENTO DE INFORMÁTICA E MATEMÁTICA APLICADA</td>\n",
       "    </tr>\n",
       "  </tbody>\n",
       "</table>\n",
       "</div>"
      ],
      "text/plain": [
       "      id_componente   codigo nivel  \\\n",
       "6             20007  DIM0072     G   \n",
       "1033          21073  DIM0056     G   \n",
       "1043          21083  DIM0346     G   \n",
       "1619          21667  DIM0046     G   \n",
       "1620          21668  DIM0003     G   \n",
       "\n",
       "                                                   nome  \\\n",
       "6                      TECNICAS DE ESPECIFICACAO FORMAL   \n",
       "1033                                    SOFTWARE BASICO   \n",
       "1043  GERENCIAMENTO E SEGURANCA EM REDES DE COMPUTAD...   \n",
       "1619               ALGORITMOS E TECNICAS DE PROGRAMACAO   \n",
       "1620                        ORGANIZACAO DE COMPUTADORES   \n",
       "\n",
       "                                    unidade_responsavel  \n",
       "6     DEPARTAMENTO DE INFORMÁTICA E MATEMÁTICA APLICADA  \n",
       "1033  DEPARTAMENTO DE INFORMÁTICA E MATEMÁTICA APLICADA  \n",
       "1043  DEPARTAMENTO DE INFORMÁTICA E MATEMÁTICA APLICADA  \n",
       "1619  DEPARTAMENTO DE INFORMÁTICA E MATEMÁTICA APLICADA  \n",
       "1620  DEPARTAMENTO DE INFORMÁTICA E MATEMÁTICA APLICADA  "
      ]
     },
     "execution_count": 7,
     "metadata": {},
     "output_type": "execute_result"
    }
   ],
   "source": [
    "df_componentes = pd.read_csv(url_componentes, sep=',')\n",
    "df_componentes = df_componentes[(df_componentes['unidade_responsavel'] == 'DEPARTAMENTO DE INFORMÁTICA E MATEMÁTICA APLICADA') | (df_componentes['unidade_responsavel'] == 'INSTITUTO METROPOLE DIGITAL')]\n",
    "df_componentes.head()"
   ]
  },
  {
   "cell_type": "code",
   "execution_count": 8,
   "metadata": {
    "collapsed": true
   },
   "outputs": [],
   "source": [
    "unidades_normalizadas = [unicodedata.normalize('NFKD', unicode(nome, \"utf-8\")).encode('ASCII', 'ignore') for nome in df_componentes['unidade_responsavel']]\n",
    "series = pd.Series(data=unidades_normalizadas, index=df_componentes.index)\n",
    "df_componentes['unidade_responsavel'] = series"
   ]
  },
  {
   "cell_type": "code",
   "execution_count": 9,
   "metadata": {
    "collapsed": true,
    "scrolled": false
   },
   "outputs": [],
   "source": [
    "df_componentes = df_componentes.merge(df_unidades[['id_unidade', 'lotacao']], left_on='unidade_responsavel', right_on='lotacao', how='inner')"
   ]
  },
  {
   "cell_type": "code",
   "execution_count": 10,
   "metadata": {},
   "outputs": [
    {
     "data": {
      "text/html": [
       "<div>\n",
       "<style>\n",
       "    .dataframe thead tr:only-child th {\n",
       "        text-align: right;\n",
       "    }\n",
       "\n",
       "    .dataframe thead th {\n",
       "        text-align: left;\n",
       "    }\n",
       "\n",
       "    .dataframe tbody tr th {\n",
       "        vertical-align: top;\n",
       "    }\n",
       "</style>\n",
       "<table border=\"1\" class=\"dataframe\">\n",
       "  <thead>\n",
       "    <tr style=\"text-align: right;\">\n",
       "      <th></th>\n",
       "      <th>id_componente</th>\n",
       "      <th>codigo</th>\n",
       "    </tr>\n",
       "  </thead>\n",
       "  <tbody>\n",
       "    <tr>\n",
       "      <th>0</th>\n",
       "      <td>20007</td>\n",
       "      <td>DIM0072</td>\n",
       "    </tr>\n",
       "    <tr>\n",
       "      <th>1</th>\n",
       "      <td>21073</td>\n",
       "      <td>DIM0056</td>\n",
       "    </tr>\n",
       "    <tr>\n",
       "      <th>2</th>\n",
       "      <td>21083</td>\n",
       "      <td>DIM0346</td>\n",
       "    </tr>\n",
       "    <tr>\n",
       "      <th>3</th>\n",
       "      <td>21667</td>\n",
       "      <td>DIM0046</td>\n",
       "    </tr>\n",
       "    <tr>\n",
       "      <th>4</th>\n",
       "      <td>21668</td>\n",
       "      <td>DIM0003</td>\n",
       "    </tr>\n",
       "  </tbody>\n",
       "</table>\n",
       "</div>"
      ],
      "text/plain": [
       "   id_componente   codigo\n",
       "0          20007  DIM0072\n",
       "1          21073  DIM0056\n",
       "2          21083  DIM0346\n",
       "3          21667  DIM0046\n",
       "4          21668  DIM0003"
      ]
     },
     "execution_count": 10,
     "metadata": {},
     "output_type": "execute_result"
    }
   ],
   "source": [
    "df_componente_curricular = df_componentes[['id_componente', 'codigo']]\n",
    "df_componente_curricular.head()"
   ]
  },
  {
   "cell_type": "code",
   "execution_count": 11,
   "metadata": {
    "scrolled": true
   },
   "outputs": [
    {
     "data": {
      "text/html": [
       "<div>\n",
       "<style>\n",
       "    .dataframe thead tr:only-child th {\n",
       "        text-align: right;\n",
       "    }\n",
       "\n",
       "    .dataframe thead th {\n",
       "        text-align: left;\n",
       "    }\n",
       "\n",
       "    .dataframe tbody tr th {\n",
       "        vertical-align: top;\n",
       "    }\n",
       "</style>\n",
       "<table border=\"1\" class=\"dataframe\">\n",
       "  <thead>\n",
       "    <tr style=\"text-align: right;\">\n",
       "      <th></th>\n",
       "      <th>codigo</th>\n",
       "      <th>id_unidade</th>\n",
       "      <th>nome</th>\n",
       "    </tr>\n",
       "  </thead>\n",
       "  <tbody>\n",
       "    <tr>\n",
       "      <th>0</th>\n",
       "      <td>DIM0072</td>\n",
       "      <td>125</td>\n",
       "      <td>TECNICAS DE ESPECIFICACAO FORMAL</td>\n",
       "    </tr>\n",
       "    <tr>\n",
       "      <th>1</th>\n",
       "      <td>DIM0056</td>\n",
       "      <td>125</td>\n",
       "      <td>SOFTWARE BASICO</td>\n",
       "    </tr>\n",
       "    <tr>\n",
       "      <th>2</th>\n",
       "      <td>DIM0346</td>\n",
       "      <td>125</td>\n",
       "      <td>GERENCIAMENTO E SEGURANCA EM REDES DE COMPUTAD...</td>\n",
       "    </tr>\n",
       "    <tr>\n",
       "      <th>3</th>\n",
       "      <td>DIM0046</td>\n",
       "      <td>125</td>\n",
       "      <td>ALGORITMOS E TECNICAS DE PROGRAMACAO</td>\n",
       "    </tr>\n",
       "    <tr>\n",
       "      <th>4</th>\n",
       "      <td>DIM0003</td>\n",
       "      <td>125</td>\n",
       "      <td>ORGANIZACAO DE COMPUTADORES</td>\n",
       "    </tr>\n",
       "  </tbody>\n",
       "</table>\n",
       "</div>"
      ],
      "text/plain": [
       "    codigo  id_unidade                                               nome\n",
       "0  DIM0072         125                   TECNICAS DE ESPECIFICACAO FORMAL\n",
       "1  DIM0056         125                                    SOFTWARE BASICO\n",
       "2  DIM0346         125  GERENCIAMENTO E SEGURANCA EM REDES DE COMPUTAD...\n",
       "3  DIM0046         125               ALGORITMOS E TECNICAS DE PROGRAMACAO\n",
       "4  DIM0003         125                        ORGANIZACAO DE COMPUTADORES"
      ]
     },
     "execution_count": 11,
     "metadata": {},
     "output_type": "execute_result"
    }
   ],
   "source": [
    "df_componente_lotacao = df_componentes[['codigo', 'id_unidade', 'nome']]\n",
    "df_componente_lotacao.head()"
   ]
  },
  {
   "cell_type": "code",
   "execution_count": 12,
   "metadata": {
    "collapsed": true
   },
   "outputs": [],
   "source": [
    "turma_periodo = ['http://dados.ufrn.br/dataset/1938623d-fb07-41a4-a55a-1691f7c3b8b5/resource/5e77d066-d506-45eb-a21e-76aa79616fef/download/turmas-2017.1',\n",
    "'http://dados.ufrn.br/dataset/1938623d-fb07-41a4-a55a-1691f7c3b8b5/resource/01fe7343-fdf0-4a67-b915-2386b7c2fecb/download/turmas-2017.2',\n",
    "'http://dados.ufrn.br/dataset/1938623d-fb07-41a4-a55a-1691f7c3b8b5/resource/322d9977-ba15-47f1-8216-75a1ca78e197/download/turmas-2016.1.csv',\n",
    "'http://dados.ufrn.br/dataset/1938623d-fb07-41a4-a55a-1691f7c3b8b5/resource/5e8e3228-7f22-40a2-9efd-561c44844567/download/turmas-2016.2.csv',\n",
    "'http://dados.ufrn.br/dataset/1938623d-fb07-41a4-a55a-1691f7c3b8b5/resource/4d5aee5a-00b0-4ed6-a4be-59fa77a56797/download/turmas-2015.1.csv',\n",
    "'http://dados.ufrn.br/dataset/1938623d-fb07-41a4-a55a-1691f7c3b8b5/resource/7c59621c-4a8b-49d4-b319-83cfea9bdf28/download/turmas-2015.2.csv',\n",
    "'http://dados.ufrn.br/dataset/1938623d-fb07-41a4-a55a-1691f7c3b8b5/resource/e6e4144f-4042-4fdc-84e0-76e9ec27ae7c/download/turmas-2014.1.csv',\n",
    "'http://dados.ufrn.br/dataset/1938623d-fb07-41a4-a55a-1691f7c3b8b5/resource/2c69547b-920f-4ec2-92c0-3fbc19512165/download/turmas-2014.2.csv',\n",
    "'http://dados.ufrn.br/dataset/1938623d-fb07-41a4-a55a-1691f7c3b8b5/resource/0d96d930-8058-4def-9044-c3ae04c1f40c/download/turmas-2013.1.csv',\n",
    "'http://dados.ufrn.br/dataset/1938623d-fb07-41a4-a55a-1691f7c3b8b5/resource/e7e3cf12-a29b-491a-a895-021a43819197/download/turmas-2013.2.csv',]"
   ]
  },
  {
   "cell_type": "code",
   "execution_count": 13,
   "metadata": {
    "collapsed": true
   },
   "outputs": [],
   "source": [
    "frames = [pd.read_csv(periodo, sep=';', usecols=['id_turma', 'ano', 'nivel_ensino', 'periodo', 'id_componente_curricular']) for periodo in turma_periodo]"
   ]
  },
  {
   "cell_type": "code",
   "execution_count": 14,
   "metadata": {
    "collapsed": true
   },
   "outputs": [],
   "source": [
    "df_turmas = pd.concat(frames)"
   ]
  },
  {
   "cell_type": "code",
   "execution_count": 15,
   "metadata": {
    "scrolled": true
   },
   "outputs": [
    {
     "data": {
      "text/html": [
       "<div>\n",
       "<style>\n",
       "    .dataframe thead tr:only-child th {\n",
       "        text-align: right;\n",
       "    }\n",
       "\n",
       "    .dataframe thead th {\n",
       "        text-align: left;\n",
       "    }\n",
       "\n",
       "    .dataframe tbody tr th {\n",
       "        vertical-align: top;\n",
       "    }\n",
       "</style>\n",
       "<table border=\"1\" class=\"dataframe\">\n",
       "  <thead>\n",
       "    <tr style=\"text-align: right;\">\n",
       "      <th></th>\n",
       "      <th>id_turma</th>\n",
       "      <th>id_componente</th>\n",
       "      <th>nivel</th>\n",
       "      <th>ano</th>\n",
       "      <th>periodo</th>\n",
       "    </tr>\n",
       "  </thead>\n",
       "  <tbody>\n",
       "    <tr>\n",
       "      <th>0</th>\n",
       "      <td>57596647</td>\n",
       "      <td>2022854</td>\n",
       "      <td>GRADUAÇÃO</td>\n",
       "      <td>2017</td>\n",
       "      <td>1</td>\n",
       "    </tr>\n",
       "    <tr>\n",
       "      <th>1</th>\n",
       "      <td>57606915</td>\n",
       "      <td>2022854</td>\n",
       "      <td>GRADUAÇÃO</td>\n",
       "      <td>2017</td>\n",
       "      <td>2</td>\n",
       "    </tr>\n",
       "    <tr>\n",
       "      <th>2</th>\n",
       "      <td>57586681</td>\n",
       "      <td>2022854</td>\n",
       "      <td>GRADUAÇÃO</td>\n",
       "      <td>2016</td>\n",
       "      <td>2</td>\n",
       "    </tr>\n",
       "    <tr>\n",
       "      <th>3</th>\n",
       "      <td>1223534</td>\n",
       "      <td>2022854</td>\n",
       "      <td>GRADUAÇÃO</td>\n",
       "      <td>2014</td>\n",
       "      <td>1</td>\n",
       "    </tr>\n",
       "    <tr>\n",
       "      <th>4</th>\n",
       "      <td>1233980</td>\n",
       "      <td>2022854</td>\n",
       "      <td>GRADUAÇÃO</td>\n",
       "      <td>2014</td>\n",
       "      <td>2</td>\n",
       "    </tr>\n",
       "  </tbody>\n",
       "</table>\n",
       "</div>"
      ],
      "text/plain": [
       "   id_turma  id_componente      nivel   ano  periodo\n",
       "0  57596647        2022854  GRADUAÇÃO  2017        1\n",
       "1  57606915        2022854  GRADUAÇÃO  2017        2\n",
       "2  57586681        2022854  GRADUAÇÃO  2016        2\n",
       "3   1223534        2022854  GRADUAÇÃO  2014        1\n",
       "4   1233980        2022854  GRADUAÇÃO  2014        2"
      ]
     },
     "execution_count": 15,
     "metadata": {},
     "output_type": "execute_result"
    }
   ],
   "source": [
    "df_turmas.rename(columns={'nivel_ensino': 'nivel', 'id_componente_curricular': 'id_componente'}, inplace=True)\n",
    "df_turmas = df_turmas[df_turmas['nivel'] == 'GRADUAÇÃO']\n",
    "df_turmas['periodo'] = df_turmas['periodo'].astype(int) \n",
    "df_turmas['id_componente'] = df_turmas['id_componente'].astype(int)\n",
    "df_turmas = df_turmas.merge(df_componente_curricular[['id_componente']], on='id_componente', how='inner')\n",
    "df_turmas.head()"
   ]
  },
  {
   "cell_type": "code",
   "execution_count": 16,
   "metadata": {
    "scrolled": false
   },
   "outputs": [
    {
     "data": {
      "text/html": [
       "<div>\n",
       "<style>\n",
       "    .dataframe thead tr:only-child th {\n",
       "        text-align: right;\n",
       "    }\n",
       "\n",
       "    .dataframe thead th {\n",
       "        text-align: left;\n",
       "    }\n",
       "\n",
       "    .dataframe tbody tr th {\n",
       "        vertical-align: top;\n",
       "    }\n",
       "</style>\n",
       "<table border=\"1\" class=\"dataframe\">\n",
       "  <thead>\n",
       "    <tr style=\"text-align: right;\">\n",
       "      <th></th>\n",
       "      <th>id_docente</th>\n",
       "      <th>id_turma</th>\n",
       "      <th>qtd_discentes</th>\n",
       "      <th>postura_profissional</th>\n",
       "      <th>postura_profissional_DP</th>\n",
       "      <th>atuacao_profissional</th>\n",
       "      <th>atuacao_profissional_DP</th>\n",
       "    </tr>\n",
       "  </thead>\n",
       "  <tbody>\n",
       "    <tr>\n",
       "      <th>0</th>\n",
       "      <td>17624</td>\n",
       "      <td>1211573</td>\n",
       "      <td>29</td>\n",
       "      <td>9.91</td>\n",
       "      <td>0.28</td>\n",
       "      <td>8.76</td>\n",
       "      <td>1.99</td>\n",
       "    </tr>\n",
       "    <tr>\n",
       "      <th>1</th>\n",
       "      <td>17624</td>\n",
       "      <td>1211575</td>\n",
       "      <td>8</td>\n",
       "      <td>9.80</td>\n",
       "      <td>0.42</td>\n",
       "      <td>9.35</td>\n",
       "      <td>0.86</td>\n",
       "    </tr>\n",
       "    <tr>\n",
       "      <th>2</th>\n",
       "      <td>18154</td>\n",
       "      <td>1211630</td>\n",
       "      <td>20</td>\n",
       "      <td>9.90</td>\n",
       "      <td>0.30</td>\n",
       "      <td>9.13</td>\n",
       "      <td>1.49</td>\n",
       "    </tr>\n",
       "    <tr>\n",
       "      <th>3</th>\n",
       "      <td>18154</td>\n",
       "      <td>1223538</td>\n",
       "      <td>15</td>\n",
       "      <td>10.00</td>\n",
       "      <td>0.00</td>\n",
       "      <td>9.04</td>\n",
       "      <td>2.20</td>\n",
       "    </tr>\n",
       "    <tr>\n",
       "      <th>4</th>\n",
       "      <td>18154</td>\n",
       "      <td>1223539</td>\n",
       "      <td>10</td>\n",
       "      <td>9.63</td>\n",
       "      <td>1.02</td>\n",
       "      <td>9.11</td>\n",
       "      <td>1.27</td>\n",
       "    </tr>\n",
       "  </tbody>\n",
       "</table>\n",
       "</div>"
      ],
      "text/plain": [
       "   id_docente id_turma  qtd_discentes  postura_profissional  \\\n",
       "0       17624  1211573             29                  9.91   \n",
       "1       17624  1211575              8                  9.80   \n",
       "2       18154  1211630             20                  9.90   \n",
       "3       18154  1223538             15                 10.00   \n",
       "4       18154  1223539             10                  9.63   \n",
       "\n",
       "   postura_profissional_DP  atuacao_profissional  atuacao_profissional_DP  \n",
       "0                     0.28                  8.76                     1.99  \n",
       "1                     0.42                  9.35                     0.86  \n",
       "2                     0.30                  9.13                     1.49  \n",
       "3                     0.00                  9.04                     2.20  \n",
       "4                     1.02                  9.11                     1.27  "
      ]
     },
     "execution_count": 16,
     "metadata": {},
     "output_type": "execute_result"
    }
   ],
   "source": [
    "df_avaliacoes = pd.read_csv(url_avaliacoes, sep=';', usecols=['id_docente', 'id_turma', 'qtd_discentes', 'postura_profissional_media', 'postura_profissional_DP', 'atuacao_profissional_media', 'atuacao_profissional_DP'])\n",
    "df_avaliacoes = df_avaliacoes.merge(df_turmas[['id_turma']], on='id_turma', how='inner')\n",
    "df_avaliacoes.rename(columns={'postura_profissional_media': 'postura_profissional', 'atuacao_profissional_media': 'atuacao_profissional'}, inplace=True)\n",
    "df_avaliacoes.head()"
   ]
  },
  {
   "cell_type": "code",
   "execution_count": 17,
   "metadata": {
    "collapsed": true
   },
   "outputs": [],
   "source": [
    "df_avaliacoes.to_csv('avaliacao.csv', sep=';', index=False)\n",
    "df_componente_lotacao.to_csv('componente_lotacao.csv', sep=';', index=False)\n",
    "df_componente_curricular.to_csv('componente_curricular.csv', sep=';', index=False)\n",
    "df_docentes.to_csv('docente.csv', sep=';', index=False)\n",
    "df_unidades.to_csv('unidade.csv', sep=';', index=False)\n",
    "df_turmas.to_csv('turma.csv', sep=';', index=False)"
   ]
  }
 ],
 "metadata": {
  "kernelspec": {
   "display_name": "Python 2",
   "language": "python",
   "name": "python2"
  },
  "language_info": {
   "codemirror_mode": {
    "name": "ipython",
    "version": 2
   },
   "file_extension": ".py",
   "mimetype": "text/x-python",
   "name": "python",
   "nbconvert_exporter": "python",
   "pygments_lexer": "ipython2",
   "version": "2.7.14"
  }
 },
 "nbformat": 4,
 "nbformat_minor": 2
}
