{
 "cells": [
  {
   "cell_type": "code",
   "execution_count": 1,
   "metadata": {},
   "outputs": [
    {
     "name": "stdout",
     "output_type": "stream",
     "text": [
      "Requirement already satisfied: pandas in c:\\programdata\\anaconda3\\lib\\site-packages\n",
      "Requirement already satisfied: python-dateutil>=2 in c:\\programdata\\anaconda3\\lib\\site-packages (from pandas)\n",
      "Requirement already satisfied: pytz>=2011k in c:\\programdata\\anaconda3\\lib\\site-packages (from pandas)\n",
      "Requirement already satisfied: numpy>=1.7.0 in c:\\programdata\\anaconda3\\lib\\site-packages (from pandas)\n",
      "Requirement already satisfied: six>=1.5 in c:\\programdata\\anaconda3\\lib\\site-packages (from python-dateutil>=2->pandas)\n"
     ]
    },
    {
     "name": "stderr",
     "output_type": "stream",
     "text": [
      "You are using pip version 9.0.1, however version 10.0.1 is available.\n",
      "You should consider upgrading via the 'python -m pip install --upgrade pip' command.\n"
     ]
    },
    {
     "name": "stdout",
     "output_type": "stream",
     "text": [
      "Collecting request\n",
      "Installing collected packages: request\n"
     ]
    },
    {
     "name": "stderr",
     "output_type": "stream",
     "text": [
      "Exception:\n",
      "Traceback (most recent call last):\n",
      "  File \"C:\\ProgramData\\Anaconda3\\lib\\site-packages\\pip\\basecommand.py\", line 215, in main\n",
      "    status = self.run(options, args)\n",
      "  File \"C:\\ProgramData\\Anaconda3\\lib\\site-packages\\pip\\commands\\install.py\", line 342, in run\n",
      "    prefix=options.prefix_path,\n",
      "  File \"C:\\ProgramData\\Anaconda3\\lib\\site-packages\\pip\\req\\req_set.py\", line 784, in install\n",
      "    **kwargs\n",
      "  File \"C:\\ProgramData\\Anaconda3\\lib\\site-packages\\pip\\req\\req_install.py\", line 851, in install\n",
      "    self.move_wheel_files(self.source_dir, root=root, prefix=prefix)\n",
      "  File \"C:\\ProgramData\\Anaconda3\\lib\\site-packages\\pip\\req\\req_install.py\", line 1064, in move_wheel_files\n",
      "    isolated=self.isolated,\n",
      "  File \"C:\\ProgramData\\Anaconda3\\lib\\site-packages\\pip\\wheel.py\", line 347, in move_wheel_files\n",
      "    assert info_dir, \"%s .dist-info directory not found\" % req\n",
      "AssertionError: request .dist-info directory not found\n",
      "You are using pip version 9.0.1, however version 10.0.1 is available.\n",
      "You should consider upgrading via the 'python -m pip install --upgrade pip' command.\n"
     ]
    }
   ],
   "source": [
    "!pip install pandas\n",
    "!pip install request\n",
    "\n",
    "import pandas as pd\n",
    "import unicodedata\n",
    "import datetime"
   ]
  },
  {
   "cell_type": "code",
   "execution_count": 2,
   "metadata": {
    "collapsed": true
   },
   "outputs": [],
   "source": [
    "url_componentes = 'componentes-graduacao.csv'\n",
    "url_unidades = 'http://dados.ufrn.br/dataset/da6451a5-1a59-4630-bdc2-97f6be4a59c2/resource/3f2e4e32-ef1a-4396-8037-cbc22a89d97f/download/unidades.csv'\n",
    "url_docentes = 'http://dados.ufrn.br/dataset/8bf1a468-48ff-4f4d-95ee-b17b7a3a5592/resource/ff0a457e-76fa-4aca-ad99-48aebd7db070/download/docentes.csv'\n",
    "url_avaliacoes = 'http://dados.ufrn.br/dataset/d5723d75-7e6e-4264-82aa-b96909b69f63/resource/7accd1d2-2793-460e-b98d-87a0679b9155/download/avaliacaodocencia.csv'"
   ]
  },
  {
   "cell_type": "code",
   "execution_count": 3,
   "metadata": {
    "scrolled": false
   },
   "outputs": [
    {
     "data": {
      "text/html": [
       "<div>\n",
       "<style scoped>\n",
       "    .dataframe tbody tr th:only-of-type {\n",
       "        vertical-align: middle;\n",
       "    }\n",
       "\n",
       "    .dataframe tbody tr th {\n",
       "        vertical-align: top;\n",
       "    }\n",
       "\n",
       "    .dataframe thead th {\n",
       "        text-align: right;\n",
       "    }\n",
       "</style>\n",
       "<table border=\"1\" class=\"dataframe\">\n",
       "  <thead>\n",
       "    <tr style=\"text-align: right;\">\n",
       "      <th></th>\n",
       "      <th>id_unidade</th>\n",
       "      <th>lotacao</th>\n",
       "    </tr>\n",
       "  </thead>\n",
       "  <tbody>\n",
       "    <tr>\n",
       "      <th>0</th>\n",
       "      <td>125</td>\n",
       "      <td>DEPARTAMENTO DE INFORMATICA E MATEMATICA APLICADA</td>\n",
       "    </tr>\n",
       "    <tr>\n",
       "      <th>1</th>\n",
       "      <td>6069</td>\n",
       "      <td>INSTITUTO METROPOLE DIGITAL</td>\n",
       "    </tr>\n",
       "  </tbody>\n",
       "</table>\n",
       "</div>"
      ],
      "text/plain": [
       "   id_unidade                                            lotacao\n",
       "0         125  DEPARTAMENTO DE INFORMATICA E MATEMATICA APLICADA\n",
       "1        6069                        INSTITUTO METROPOLE DIGITAL"
      ]
     },
     "execution_count": 3,
     "metadata": {},
     "output_type": "execute_result"
    }
   ],
   "source": [
    "df_unidades = pd.read_csv(url_unidades, ';')\n",
    "df_unidades = df_unidades[['id_unidade_responsavel', 'unidade_responsavel']]\n",
    "df_unidades.rename(columns={'id_unidade_responsavel': 'id_unidade', 'unidade_responsavel': 'lotacao'}, inplace=True)\n",
    "df_unidades = df_unidades[(df_unidades['lotacao'] == 'DEPARTAMENTO DE INFORMATICA E MATEMATICA APLICADA') | (df_unidades['lotacao'] == 'INSTITUTO METROPOLE DIGITAL')].drop_duplicates()\n",
    "df_unidades.reset_index(inplace=True, drop=True)\n",
    "df_unidades.head()"
   ]
  },
  {
   "cell_type": "code",
   "execution_count": 4,
   "metadata": {},
   "outputs": [
    {
     "data": {
      "text/plain": [
       "Index([u'id_servidor', u'siape', u'nome', u'formacao',\n",
       "       u'tipo_jornada_trabalho', u'vinculo', u'categoria', u'classe_funcional',\n",
       "       u'id_unidade_lotacao', u'lotacao', u'admissao', u'Unnamed: 11'],\n",
       "      dtype='object')"
      ]
     },
     "execution_count": 4,
     "metadata": {},
     "output_type": "execute_result"
    }
   ],
   "source": [
    "df_docentes = pd.read_csv(url_docentes, ';')\n",
    "df_docentes.columns"
   ]
  },
  {
   "cell_type": "code",
   "execution_count": 5,
   "metadata": {
    "collapsed": true,
    "scrolled": true
   },
   "outputs": [],
   "source": [
    "df_docentes = df_docentes[df_docentes['categoria'] == 'PROFESSOR DO MAGISTERIO SUPERIOR']"
   ]
  },
  {
   "cell_type": "code",
   "execution_count": 6,
   "metadata": {
    "scrolled": true
   },
   "outputs": [
    {
     "data": {
      "text/plain": [
       "125     35\n",
       "6069    27\n",
       "Name: id_unidade, dtype: int64"
      ]
     },
     "execution_count": 6,
     "metadata": {},
     "output_type": "execute_result"
    }
   ],
   "source": [
    "df_docentes = df_docentes[['id_servidor', 'nome', 'formacao', 'id_unidade_lotacao', 'admissao']]\n",
    "df_docentes.rename(columns={'id_servidor': 'id_docente', 'admissao': 'data_admissao', 'id_unidade_lotacao': 'id_unidade'}, inplace=True)\n",
    "df_docentes = df_docentes.merge(df_unidades[['id_unidade']], on='id_unidade', how='inner')\n",
    "df_docentes['data_admissao'] = [ data.date() for data in pd.to_datetime(df_docentes['data_admissao'])]\n",
    "df_docentes['id_unidade'].value_counts()"
   ]
  },
  {
   "cell_type": "code",
   "execution_count": 7,
   "metadata": {},
   "outputs": [
    {
     "data": {
      "text/html": [
       "<div>\n",
       "<style scoped>\n",
       "    .dataframe tbody tr th:only-of-type {\n",
       "        vertical-align: middle;\n",
       "    }\n",
       "\n",
       "    .dataframe tbody tr th {\n",
       "        vertical-align: top;\n",
       "    }\n",
       "\n",
       "    .dataframe thead th {\n",
       "        text-align: right;\n",
       "    }\n",
       "</style>\n",
       "<table border=\"1\" class=\"dataframe\">\n",
       "  <thead>\n",
       "    <tr style=\"text-align: right;\">\n",
       "      <th></th>\n",
       "      <th>id_componente</th>\n",
       "      <th>codigo</th>\n",
       "      <th>nivel</th>\n",
       "      <th>nome</th>\n",
       "      <th>unidade_responsavel</th>\n",
       "    </tr>\n",
       "  </thead>\n",
       "  <tbody>\n",
       "    <tr>\n",
       "      <th>6</th>\n",
       "      <td>20007</td>\n",
       "      <td>DIM0072</td>\n",
       "      <td>G</td>\n",
       "      <td>TECNICAS DE ESPECIFICACAO FORMAL</td>\n",
       "      <td>DEPARTAMENTO DE INFORMÁTICA E MATEMÁTICA APLICADA</td>\n",
       "    </tr>\n",
       "    <tr>\n",
       "      <th>1033</th>\n",
       "      <td>21073</td>\n",
       "      <td>DIM0056</td>\n",
       "      <td>G</td>\n",
       "      <td>SOFTWARE BASICO</td>\n",
       "      <td>DEPARTAMENTO DE INFORMÁTICA E MATEMÁTICA APLICADA</td>\n",
       "    </tr>\n",
       "    <tr>\n",
       "      <th>1043</th>\n",
       "      <td>21083</td>\n",
       "      <td>DIM0346</td>\n",
       "      <td>G</td>\n",
       "      <td>GERENCIAMENTO E SEGURANCA EM REDES DE COMPUTAD...</td>\n",
       "      <td>DEPARTAMENTO DE INFORMÁTICA E MATEMÁTICA APLICADA</td>\n",
       "    </tr>\n",
       "    <tr>\n",
       "      <th>1619</th>\n",
       "      <td>21667</td>\n",
       "      <td>DIM0046</td>\n",
       "      <td>G</td>\n",
       "      <td>ALGORITMOS E TECNICAS DE PROGRAMACAO</td>\n",
       "      <td>DEPARTAMENTO DE INFORMÁTICA E MATEMÁTICA APLICADA</td>\n",
       "    </tr>\n",
       "    <tr>\n",
       "      <th>1620</th>\n",
       "      <td>21668</td>\n",
       "      <td>DIM0003</td>\n",
       "      <td>G</td>\n",
       "      <td>ORGANIZACAO DE COMPUTADORES</td>\n",
       "      <td>DEPARTAMENTO DE INFORMÁTICA E MATEMÁTICA APLICADA</td>\n",
       "    </tr>\n",
       "  </tbody>\n",
       "</table>\n",
       "</div>"
      ],
      "text/plain": [
       "      id_componente   codigo nivel  \\\n",
       "6             20007  DIM0072     G   \n",
       "1033          21073  DIM0056     G   \n",
       "1043          21083  DIM0346     G   \n",
       "1619          21667  DIM0046     G   \n",
       "1620          21668  DIM0003     G   \n",
       "\n",
       "                                                   nome  \\\n",
       "6                      TECNICAS DE ESPECIFICACAO FORMAL   \n",
       "1033                                    SOFTWARE BASICO   \n",
       "1043  GERENCIAMENTO E SEGURANCA EM REDES DE COMPUTAD...   \n",
       "1619               ALGORITMOS E TECNICAS DE PROGRAMACAO   \n",
       "1620                        ORGANIZACAO DE COMPUTADORES   \n",
       "\n",
       "                                    unidade_responsavel  \n",
       "6     DEPARTAMENTO DE INFORMÁTICA E MATEMÁTICA APLICADA  \n",
       "1033  DEPARTAMENTO DE INFORMÁTICA E MATEMÁTICA APLICADA  \n",
       "1043  DEPARTAMENTO DE INFORMÁTICA E MATEMÁTICA APLICADA  \n",
       "1619  DEPARTAMENTO DE INFORMÁTICA E MATEMÁTICA APLICADA  \n",
       "1620  DEPARTAMENTO DE INFORMÁTICA E MATEMÁTICA APLICADA  "
      ]
     },
     "execution_count": 7,
     "metadata": {},
     "output_type": "execute_result"
    }
   ],
   "source": [
    "df_componentes = pd.read_csv(url_componentes, sep=',')\n",
    "df_componentes = df_componentes[(df_componentes['unidade_responsavel'] == 'DEPARTAMENTO DE INFORMÁTICA E MATEMÁTICA APLICADA') | (df_componentes['unidade_responsavel'] == 'INSTITUTO METROPOLE DIGITAL')]\n",
    "df_componentes.head()"
   ]
  },
  {
   "cell_type": "code",
   "execution_count": 8,
   "metadata": {
    "collapsed": true
   },
   "outputs": [],
   "source": [
    "unidades_normalizadas = [unicodedata.normalize('NFKD', unicode(nome, \"utf-8\")).encode('ASCII', 'ignore') for nome in df_componentes['unidade_responsavel']]\n",
    "series = pd.Series(data=unidades_normalizadas, index=df_componentes.index)\n",
    "df_componentes['unidade_responsavel'] = series"
   ]
  },
  {
   "cell_type": "code",
   "execution_count": 9,
   "metadata": {
    "collapsed": true,
    "scrolled": false
   },
   "outputs": [],
   "source": [
    "df_componentes = df_componentes.merge(df_unidades[['id_unidade', 'lotacao']], left_on='unidade_responsavel', right_on='lotacao', how='inner')"
   ]
  },
  {
   "cell_type": "code",
   "execution_count": 10,
   "metadata": {},
   "outputs": [
    {
     "data": {
      "text/html": [
       "<div>\n",
       "<style scoped>\n",
       "    .dataframe tbody tr th:only-of-type {\n",
       "        vertical-align: middle;\n",
       "    }\n",
       "\n",
       "    .dataframe tbody tr th {\n",
       "        vertical-align: top;\n",
       "    }\n",
       "\n",
       "    .dataframe thead th {\n",
       "        text-align: right;\n",
       "    }\n",
       "</style>\n",
       "<table border=\"1\" class=\"dataframe\">\n",
       "  <thead>\n",
       "    <tr style=\"text-align: right;\">\n",
       "      <th></th>\n",
       "      <th>id_componente</th>\n",
       "      <th>codigo</th>\n",
       "    </tr>\n",
       "  </thead>\n",
       "  <tbody>\n",
       "    <tr>\n",
       "      <th>0</th>\n",
       "      <td>20007</td>\n",
       "      <td>DIM0072</td>\n",
       "    </tr>\n",
       "    <tr>\n",
       "      <th>1</th>\n",
       "      <td>21073</td>\n",
       "      <td>DIM0056</td>\n",
       "    </tr>\n",
       "    <tr>\n",
       "      <th>2</th>\n",
       "      <td>21083</td>\n",
       "      <td>DIM0346</td>\n",
       "    </tr>\n",
       "    <tr>\n",
       "      <th>3</th>\n",
       "      <td>21667</td>\n",
       "      <td>DIM0046</td>\n",
       "    </tr>\n",
       "    <tr>\n",
       "      <th>4</th>\n",
       "      <td>21668</td>\n",
       "      <td>DIM0003</td>\n",
       "    </tr>\n",
       "  </tbody>\n",
       "</table>\n",
       "</div>"
      ],
      "text/plain": [
       "   id_componente   codigo\n",
       "0          20007  DIM0072\n",
       "1          21073  DIM0056\n",
       "2          21083  DIM0346\n",
       "3          21667  DIM0046\n",
       "4          21668  DIM0003"
      ]
     },
     "execution_count": 10,
     "metadata": {},
     "output_type": "execute_result"
    }
   ],
   "source": [
    "df_componente_curricular = df_componentes[['id_componente', 'codigo']]\n",
    "df_componente_curricular.head()"
   ]
  },
  {
   "cell_type": "code",
   "execution_count": 11,
   "metadata": {
    "scrolled": true
   },
   "outputs": [
    {
     "data": {
      "text/html": [
       "<div>\n",
       "<style scoped>\n",
       "    .dataframe tbody tr th:only-of-type {\n",
       "        vertical-align: middle;\n",
       "    }\n",
       "\n",
       "    .dataframe tbody tr th {\n",
       "        vertical-align: top;\n",
       "    }\n",
       "\n",
       "    .dataframe thead th {\n",
       "        text-align: right;\n",
       "    }\n",
       "</style>\n",
       "<table border=\"1\" class=\"dataframe\">\n",
       "  <thead>\n",
       "    <tr style=\"text-align: right;\">\n",
       "      <th></th>\n",
       "      <th>codigo</th>\n",
       "      <th>id_unidade</th>\n",
       "      <th>nome</th>\n",
       "    </tr>\n",
       "  </thead>\n",
       "  <tbody>\n",
       "    <tr>\n",
       "      <th>0</th>\n",
       "      <td>DIM0072</td>\n",
       "      <td>125</td>\n",
       "      <td>TECNICAS DE ESPECIFICACAO FORMAL</td>\n",
       "    </tr>\n",
       "    <tr>\n",
       "      <th>1</th>\n",
       "      <td>DIM0056</td>\n",
       "      <td>125</td>\n",
       "      <td>SOFTWARE BASICO</td>\n",
       "    </tr>\n",
       "    <tr>\n",
       "      <th>2</th>\n",
       "      <td>DIM0346</td>\n",
       "      <td>125</td>\n",
       "      <td>GERENCIAMENTO E SEGURANCA EM REDES DE COMPUTAD...</td>\n",
       "    </tr>\n",
       "    <tr>\n",
       "      <th>3</th>\n",
       "      <td>DIM0046</td>\n",
       "      <td>125</td>\n",
       "      <td>ALGORITMOS E TECNICAS DE PROGRAMACAO</td>\n",
       "    </tr>\n",
       "    <tr>\n",
       "      <th>4</th>\n",
       "      <td>DIM0003</td>\n",
       "      <td>125</td>\n",
       "      <td>ORGANIZACAO DE COMPUTADORES</td>\n",
       "    </tr>\n",
       "  </tbody>\n",
       "</table>\n",
       "</div>"
      ],
      "text/plain": [
       "    codigo  id_unidade                                               nome\n",
       "0  DIM0072         125                   TECNICAS DE ESPECIFICACAO FORMAL\n",
       "1  DIM0056         125                                    SOFTWARE BASICO\n",
       "2  DIM0346         125  GERENCIAMENTO E SEGURANCA EM REDES DE COMPUTAD...\n",
       "3  DIM0046         125               ALGORITMOS E TECNICAS DE PROGRAMACAO\n",
       "4  DIM0003         125                        ORGANIZACAO DE COMPUTADORES"
      ]
     },
     "execution_count": 11,
     "metadata": {},
     "output_type": "execute_result"
    }
   ],
   "source": [
    "df_componente_lotacao = df_componentes[['codigo', 'id_unidade', 'nome']]\n",
    "df_componente_lotacao.head()"
   ]
  },
  {
   "cell_type": "code",
   "execution_count": 12,
   "metadata": {
    "collapsed": true
   },
   "outputs": [],
   "source": [
    "turma_periodo = ['http://dados.ufrn.br/dataset/1938623d-fb07-41a4-a55a-1691f7c3b8b5/resource/5e77d066-d506-45eb-a21e-76aa79616fef/download/turmas-2017.1',\n",
    "'http://dados.ufrn.br/dataset/1938623d-fb07-41a4-a55a-1691f7c3b8b5/resource/01fe7343-fdf0-4a67-b915-2386b7c2fecb/download/turmas-2017.2',\n",
    "'http://dados.ufrn.br/dataset/1938623d-fb07-41a4-a55a-1691f7c3b8b5/resource/322d9977-ba15-47f1-8216-75a1ca78e197/download/turmas-2016.1.csv',\n",
    "'http://dados.ufrn.br/dataset/1938623d-fb07-41a4-a55a-1691f7c3b8b5/resource/5e8e3228-7f22-40a2-9efd-561c44844567/download/turmas-2016.2.csv',\n",
    "'http://dados.ufrn.br/dataset/1938623d-fb07-41a4-a55a-1691f7c3b8b5/resource/4d5aee5a-00b0-4ed6-a4be-59fa77a56797/download/turmas-2015.1.csv',\n",
    "'http://dados.ufrn.br/dataset/1938623d-fb07-41a4-a55a-1691f7c3b8b5/resource/7c59621c-4a8b-49d4-b319-83cfea9bdf28/download/turmas-2015.2.csv',\n",
    "'http://dados.ufrn.br/dataset/1938623d-fb07-41a4-a55a-1691f7c3b8b5/resource/e6e4144f-4042-4fdc-84e0-76e9ec27ae7c/download/turmas-2014.1.csv',\n",
    "'http://dados.ufrn.br/dataset/1938623d-fb07-41a4-a55a-1691f7c3b8b5/resource/2c69547b-920f-4ec2-92c0-3fbc19512165/download/turmas-2014.2.csv',\n",
    "'http://dados.ufrn.br/dataset/1938623d-fb07-41a4-a55a-1691f7c3b8b5/resource/0d96d930-8058-4def-9044-c3ae04c1f40c/download/turmas-2013.1.csv',\n",
    "'http://dados.ufrn.br/dataset/1938623d-fb07-41a4-a55a-1691f7c3b8b5/resource/e7e3cf12-a29b-491a-a895-021a43819197/download/turmas-2013.2.csv',]"
   ]
  },
  {
   "cell_type": "code",
   "execution_count": 13,
   "metadata": {
    "collapsed": true
   },
   "outputs": [],
   "source": [
    "frames = [pd.read_csv(periodo, sep=';', usecols=['id_turma', 'ano', 'nivel_ensino', 'periodo', 'id_componente_curricular']) for periodo in turma_periodo]"
   ]
  },
  {
   "cell_type": "code",
   "execution_count": 14,
   "metadata": {
    "collapsed": true
   },
   "outputs": [],
   "source": [
    "df_turmas = pd.concat(frames)"
   ]
  },
  {
   "cell_type": "code",
   "execution_count": 15,
   "metadata": {
    "scrolled": true
   },
   "outputs": [
    {
     "data": {
      "text/html": [
       "<div>\n",
       "<style scoped>\n",
       "    .dataframe tbody tr th:only-of-type {\n",
       "        vertical-align: middle;\n",
       "    }\n",
       "\n",
       "    .dataframe tbody tr th {\n",
       "        vertical-align: top;\n",
       "    }\n",
       "\n",
       "    .dataframe thead th {\n",
       "        text-align: right;\n",
       "    }\n",
       "</style>\n",
       "<table border=\"1\" class=\"dataframe\">\n",
       "  <thead>\n",
       "    <tr style=\"text-align: right;\">\n",
       "      <th></th>\n",
       "      <th>id_turma</th>\n",
       "      <th>id_componente</th>\n",
       "      <th>nivel</th>\n",
       "      <th>ano</th>\n",
       "      <th>periodo</th>\n",
       "    </tr>\n",
       "  </thead>\n",
       "  <tbody>\n",
       "    <tr>\n",
       "      <th>0</th>\n",
       "      <td>57596647</td>\n",
       "      <td>2022854</td>\n",
       "      <td>GRADUAÇÃO</td>\n",
       "      <td>2017</td>\n",
       "      <td>1</td>\n",
       "    </tr>\n",
       "    <tr>\n",
       "      <th>1</th>\n",
       "      <td>57606915</td>\n",
       "      <td>2022854</td>\n",
       "      <td>GRADUAÇÃO</td>\n",
       "      <td>2017</td>\n",
       "      <td>2</td>\n",
       "    </tr>\n",
       "    <tr>\n",
       "      <th>2</th>\n",
       "      <td>57586681</td>\n",
       "      <td>2022854</td>\n",
       "      <td>GRADUAÇÃO</td>\n",
       "      <td>2016</td>\n",
       "      <td>2</td>\n",
       "    </tr>\n",
       "    <tr>\n",
       "      <th>3</th>\n",
       "      <td>1223534</td>\n",
       "      <td>2022854</td>\n",
       "      <td>GRADUAÇÃO</td>\n",
       "      <td>2014</td>\n",
       "      <td>1</td>\n",
       "    </tr>\n",
       "    <tr>\n",
       "      <th>4</th>\n",
       "      <td>1233980</td>\n",
       "      <td>2022854</td>\n",
       "      <td>GRADUAÇÃO</td>\n",
       "      <td>2014</td>\n",
       "      <td>2</td>\n",
       "    </tr>\n",
       "  </tbody>\n",
       "</table>\n",
       "</div>"
      ],
      "text/plain": [
       "   id_turma  id_componente      nivel   ano  periodo\n",
       "0  57596647        2022854  GRADUAÇÃO  2017        1\n",
       "1  57606915        2022854  GRADUAÇÃO  2017        2\n",
       "2  57586681        2022854  GRADUAÇÃO  2016        2\n",
       "3   1223534        2022854  GRADUAÇÃO  2014        1\n",
       "4   1233980        2022854  GRADUAÇÃO  2014        2"
      ]
     },
     "execution_count": 15,
     "metadata": {},
     "output_type": "execute_result"
    }
   ],
   "source": [
    "df_turmas.rename(columns={'nivel_ensino': 'nivel', 'id_componente_curricular': 'id_componente'}, inplace=True)\n",
    "df_turmas = df_turmas[df_turmas['nivel'] == 'GRADUAÇÃO']\n",
    "df_turmas['periodo'] = df_turmas['periodo'].astype(int) \n",
    "df_turmas['id_componente'] = df_turmas['id_componente'].astype(int)\n",
    "df_turmas = df_turmas.merge(df_componente_curricular[['id_componente']], on='id_componente', how='inner')\n",
    "df_turmas.head()"
   ]
  },
  {
   "cell_type": "code",
   "execution_count": 16,
   "metadata": {
    "scrolled": true
   },
   "outputs": [
    {
     "data": {
      "text/html": [
       "<div>\n",
       "<style scoped>\n",
       "    .dataframe tbody tr th:only-of-type {\n",
       "        vertical-align: middle;\n",
       "    }\n",
       "\n",
       "    .dataframe tbody tr th {\n",
       "        vertical-align: top;\n",
       "    }\n",
       "\n",
       "    .dataframe thead th {\n",
       "        text-align: right;\n",
       "    }\n",
       "</style>\n",
       "<table border=\"1\" class=\"dataframe\">\n",
       "  <thead>\n",
       "    <tr style=\"text-align: right;\">\n",
       "      <th></th>\n",
       "      <th>id_docente</th>\n",
       "      <th>id_turma</th>\n",
       "      <th>qtd_discentes</th>\n",
       "      <th>postura_profissional</th>\n",
       "      <th>postura_profissional_DP</th>\n",
       "      <th>atuacao_profissional</th>\n",
       "      <th>atuacao_profissional_DP</th>\n",
       "    </tr>\n",
       "  </thead>\n",
       "  <tbody>\n",
       "    <tr>\n",
       "      <th>0</th>\n",
       "      <td>22764</td>\n",
       "      <td>1233659</td>\n",
       "      <td>17</td>\n",
       "      <td>9.09</td>\n",
       "      <td>1.57</td>\n",
       "      <td>9.00</td>\n",
       "      <td>1.60</td>\n",
       "    </tr>\n",
       "    <tr>\n",
       "      <th>1</th>\n",
       "      <td>22764</td>\n",
       "      <td>1233661</td>\n",
       "      <td>36</td>\n",
       "      <td>9.48</td>\n",
       "      <td>1.26</td>\n",
       "      <td>9.43</td>\n",
       "      <td>1.20</td>\n",
       "    </tr>\n",
       "    <tr>\n",
       "      <th>2</th>\n",
       "      <td>22764</td>\n",
       "      <td>1242644</td>\n",
       "      <td>34</td>\n",
       "      <td>9.41</td>\n",
       "      <td>1.04</td>\n",
       "      <td>8.86</td>\n",
       "      <td>1.73</td>\n",
       "    </tr>\n",
       "    <tr>\n",
       "      <th>3</th>\n",
       "      <td>22764</td>\n",
       "      <td>57566712</td>\n",
       "      <td>36</td>\n",
       "      <td>9.81</td>\n",
       "      <td>0.51</td>\n",
       "      <td>9.48</td>\n",
       "      <td>1.35</td>\n",
       "    </tr>\n",
       "    <tr>\n",
       "      <th>4</th>\n",
       "      <td>22764</td>\n",
       "      <td>57566818</td>\n",
       "      <td>14</td>\n",
       "      <td>9.69</td>\n",
       "      <td>0.48</td>\n",
       "      <td>8.13</td>\n",
       "      <td>2.44</td>\n",
       "    </tr>\n",
       "  </tbody>\n",
       "</table>\n",
       "</div>"
      ],
      "text/plain": [
       "   id_docente  id_turma  qtd_discentes  postura_profissional  \\\n",
       "0       22764   1233659             17                  9.09   \n",
       "1       22764   1233661             36                  9.48   \n",
       "2       22764   1242644             34                  9.41   \n",
       "3       22764  57566712             36                  9.81   \n",
       "4       22764  57566818             14                  9.69   \n",
       "\n",
       "   postura_profissional_DP  atuacao_profissional  atuacao_profissional_DP  \n",
       "0                     1.57                  9.00                     1.60  \n",
       "1                     1.26                  9.43                     1.20  \n",
       "2                     1.04                  8.86                     1.73  \n",
       "3                     0.51                  9.48                     1.35  \n",
       "4                     0.48                  8.13                     2.44  "
      ]
     },
     "execution_count": 16,
     "metadata": {},
     "output_type": "execute_result"
    }
   ],
   "source": [
    "df_avaliacoes = pd.read_csv(url_avaliacoes, sep=';', usecols=['id_docente', 'id_turma', 'qtd_discentes', 'postura_profissional_media', 'postura_profissional_DP', 'atuacao_profissional_media', 'atuacao_profissional_DP'])\n",
    "df_avaliacoes = df_avaliacoes.merge(df_turmas[['id_turma']].astype(int), on='id_turma', how='inner')\n",
    "df_avaliacoes = df_avaliacoes.merge(df_docentes[['id_docente']].astype(int), on='id_docente', how='inner')\n",
    "df_avaliacoes.rename(columns={'postura_profissional_media': 'postura_profissional', 'atuacao_profissional_media': 'atuacao_profissional'}, inplace=True)\n",
    "df_avaliacoes.head()"
   ]
  },
  {
   "cell_type": "code",
   "execution_count": 17,
   "metadata": {
    "collapsed": true
   },
   "outputs": [],
   "source": [
    "matriculas = [\n",
    "    'http://dados.ufrn.br/dataset/c8650d55-3c5a-4787-a126-d28a4ef902a6/resource/55dfe713-ff7c-4fa8-8d1d-d4294a025bff/download/matricula-componente-20172',\n",
    "    'http://dados.ufrn.br/dataset/c8650d55-3c5a-4787-a126-d28a4ef902a6/resource/79071c21-e32c-438f-b930-d1b6ccc02ec2/download/matricula-componente-20171',\n",
    "    'http://dados.ufrn.br/dataset/c8650d55-3c5a-4787-a126-d28a4ef902a6/resource/f6179838-b619-4d7d-af9c-18c438b80dd4/download/matriculas-de-2016.2.csv',\n",
    "    'http://dados.ufrn.br/dataset/c8650d55-3c5a-4787-a126-d28a4ef902a6/resource/4778d3ce-8898-46a8-a623-ee6a480a2980/download/matriculas-de-2016.1.csv',\n",
    "    'http://dados.ufrn.br/dataset/c8650d55-3c5a-4787-a126-d28a4ef902a6/resource/baa6c8b4-2072-417f-b238-c028ccc8c14b/download/matriculas-de-2015.2.csv',\n",
    "    'http://dados.ufrn.br/dataset/c8650d55-3c5a-4787-a126-d28a4ef902a6/resource/9e7ba1c2-f92d-4b9c-9e91-3b026ecdf913/download/matriculas-de-2015.1.csv',\n",
    "    'http://dados.ufrn.br/dataset/c8650d55-3c5a-4787-a126-d28a4ef902a6/resource/e974792c-b557-470c-bf3d-ede7d5b5e6a6/download/matricula-componente-20142.csv',\n",
    "    'http://dados.ufrn.br/dataset/c8650d55-3c5a-4787-a126-d28a4ef902a6/resource/7081446d-39f9-4374-ad0b-86ecab97e569/download/matricula-componente-20141.csv',\n",
    "    'http://dados.ufrn.br/dataset/c8650d55-3c5a-4787-a126-d28a4ef902a6/resource/517ed5f6-f8a2-40fd-826b-6ed3388f6e88/download/matricula-componente-20132.csv',\n",
    "    'http://dados.ufrn.br/dataset/c8650d55-3c5a-4787-a126-d28a4ef902a6/resource/674de4cc-1fc0-4314-9f04-a38f0e1f9225/download/matricula-componente-20131.csv',\n",
    "]"
   ]
  },
  {
   "cell_type": "code",
   "execution_count": 18,
   "metadata": {
    "collapsed": true
   },
   "outputs": [],
   "source": [
    "dfs_matricula = [pd.read_csv(matricula, sep=';') for matricula in matriculas]"
   ]
  },
  {
   "cell_type": "code",
   "execution_count": 19,
   "metadata": {},
   "outputs": [
    {
     "name": "stderr",
     "output_type": "stream",
     "text": [
      "C:\\Users\\paulohq\\AppData\\Local\\conda\\conda\\envs\\ipykernel_py2\\lib\\site-packages\\ipykernel_launcher.py:1: FutureWarning: Sorting because non-concatenation axis is not aligned. A future version\n",
      "of pandas will change to not sort by default.\n",
      "\n",
      "To accept the future behavior, pass 'sort=False'.\n",
      "\n",
      "To retain the current behavior and silence the warning, pass 'sort=True'.\n",
      "\n",
      "  \"\"\"Entry point for launching an IPython kernel.\n"
     ]
    }
   ],
   "source": [
    "df_matriculas = pd.concat(dfs_matricula)"
   ]
  },
  {
   "cell_type": "code",
   "execution_count": 20,
   "metadata": {
    "collapsed": true
   },
   "outputs": [],
   "source": [
    "df_matriculas = df_matriculas[~df_matriculas['descricao'].isin(['CUMPRIU', 'INDEFERIDO', 'EXCLUIDA'])]"
   ]
  },
  {
   "cell_type": "code",
   "execution_count": 21,
   "metadata": {
    "collapsed": true
   },
   "outputs": [],
   "source": [
    "df_matriculas.replace('APROVADO POR NOTA', 'APROVADO', inplace=True)\n",
    "df_matriculas.replace(['REPROVADO POR NOTA', 'REPROVADO POR FALTAS', 'REPROVADO POR MÉDIA E POR FALTAS', 'REPROVADO POR NOTA E FALTA', 'DESISTENCIA', 'TRANCADO', 'CANCELADO'], 'REPROVADO', inplace=True)"
   ]
  },
  {
   "cell_type": "code",
   "execution_count": 22,
   "metadata": {
    "scrolled": false
   },
   "outputs": [
    {
     "data": {
      "text/html": [
       "<div>\n",
       "<style scoped>\n",
       "    .dataframe tbody tr th:only-of-type {\n",
       "        vertical-align: middle;\n",
       "    }\n",
       "\n",
       "    .dataframe tbody tr th {\n",
       "        vertical-align: top;\n",
       "    }\n",
       "\n",
       "    .dataframe thead th {\n",
       "        text-align: right;\n",
       "    }\n",
       "</style>\n",
       "<table border=\"1\" class=\"dataframe\">\n",
       "  <thead>\n",
       "    <tr style=\"text-align: right;\">\n",
       "      <th></th>\n",
       "      <th>Unnamed: 10</th>\n",
       "      <th>descricao</th>\n",
       "      <th>discente</th>\n",
       "      <th>faltas_unidade</th>\n",
       "      <th>id_curso</th>\n",
       "      <th>id_turma</th>\n",
       "      <th>media_final</th>\n",
       "      <th>nota</th>\n",
       "      <th>numero_total_faltas</th>\n",
       "      <th>reposicao</th>\n",
       "      <th>unidade</th>\n",
       "    </tr>\n",
       "  </thead>\n",
       "  <tbody>\n",
       "    <tr>\n",
       "      <th>0</th>\n",
       "      <td>NaN</td>\n",
       "      <td>APROVADO</td>\n",
       "      <td>bc87085ad93b23777125e06426688c0b</td>\n",
       "      <td>0.0</td>\n",
       "      <td>2000006.0</td>\n",
       "      <td>57606947</td>\n",
       "      <td>8.4</td>\n",
       "      <td>8.8</td>\n",
       "      <td>0.0</td>\n",
       "      <td>f</td>\n",
       "      <td>2.0</td>\n",
       "    </tr>\n",
       "    <tr>\n",
       "      <th>1</th>\n",
       "      <td>NaN</td>\n",
       "      <td>APROVADO</td>\n",
       "      <td>bc87085ad93b23777125e06426688c0b</td>\n",
       "      <td>0.0</td>\n",
       "      <td>2000006.0</td>\n",
       "      <td>57606947</td>\n",
       "      <td>8.4</td>\n",
       "      <td>8.3</td>\n",
       "      <td>0.0</td>\n",
       "      <td>f</td>\n",
       "      <td>1.0</td>\n",
       "    </tr>\n",
       "    <tr>\n",
       "      <th>2</th>\n",
       "      <td>NaN</td>\n",
       "      <td>APROVADO</td>\n",
       "      <td>bc87085ad93b23777125e06426688c0b</td>\n",
       "      <td>0.0</td>\n",
       "      <td>2000006.0</td>\n",
       "      <td>57606947</td>\n",
       "      <td>8.4</td>\n",
       "      <td>8.0</td>\n",
       "      <td>0.0</td>\n",
       "      <td>f</td>\n",
       "      <td>3.0</td>\n",
       "    </tr>\n",
       "    <tr>\n",
       "      <th>3</th>\n",
       "      <td>NaN</td>\n",
       "      <td>APROVADO</td>\n",
       "      <td>853a80ecb864882511c390f74aebbdfb</td>\n",
       "      <td>0.0</td>\n",
       "      <td>2000069.0</td>\n",
       "      <td>57606947</td>\n",
       "      <td>7.0</td>\n",
       "      <td>6.2</td>\n",
       "      <td>8.0</td>\n",
       "      <td>f</td>\n",
       "      <td>3.0</td>\n",
       "    </tr>\n",
       "    <tr>\n",
       "      <th>4</th>\n",
       "      <td>NaN</td>\n",
       "      <td>APROVADO</td>\n",
       "      <td>853a80ecb864882511c390f74aebbdfb</td>\n",
       "      <td>0.0</td>\n",
       "      <td>2000069.0</td>\n",
       "      <td>57606947</td>\n",
       "      <td>7.0</td>\n",
       "      <td>7.5</td>\n",
       "      <td>8.0</td>\n",
       "      <td>f</td>\n",
       "      <td>2.0</td>\n",
       "    </tr>\n",
       "  </tbody>\n",
       "</table>\n",
       "</div>"
      ],
      "text/plain": [
       "   Unnamed: 10 descricao                          discente  faltas_unidade  \\\n",
       "0          NaN  APROVADO  bc87085ad93b23777125e06426688c0b             0.0   \n",
       "1          NaN  APROVADO  bc87085ad93b23777125e06426688c0b             0.0   \n",
       "2          NaN  APROVADO  bc87085ad93b23777125e06426688c0b             0.0   \n",
       "3          NaN  APROVADO  853a80ecb864882511c390f74aebbdfb             0.0   \n",
       "4          NaN  APROVADO  853a80ecb864882511c390f74aebbdfb             0.0   \n",
       "\n",
       "    id_curso  id_turma  media_final  nota  numero_total_faltas reposicao  \\\n",
       "0  2000006.0  57606947          8.4   8.8                  0.0         f   \n",
       "1  2000006.0  57606947          8.4   8.3                  0.0         f   \n",
       "2  2000006.0  57606947          8.4   8.0                  0.0         f   \n",
       "3  2000069.0  57606947          7.0   6.2                  8.0         f   \n",
       "4  2000069.0  57606947          7.0   7.5                  8.0         f   \n",
       "\n",
       "   unidade  \n",
       "0      2.0  \n",
       "1      1.0  \n",
       "2      3.0  \n",
       "3      3.0  \n",
       "4      2.0  "
      ]
     },
     "execution_count": 22,
     "metadata": {},
     "output_type": "execute_result"
    }
   ],
   "source": [
    "df_matriculas = df_matriculas.merge(df_turmas[['id_turma']].astype(int), on='id_turma', how='inner')\n",
    "df_matriculas.head()"
   ]
  },
  {
   "cell_type": "code",
   "execution_count": 23,
   "metadata": {
    "scrolled": false
   },
   "outputs": [
    {
     "data": {
      "text/html": [
       "<div>\n",
       "<style scoped>\n",
       "    .dataframe tbody tr th:only-of-type {\n",
       "        vertical-align: middle;\n",
       "    }\n",
       "\n",
       "    .dataframe tbody tr th {\n",
       "        vertical-align: top;\n",
       "    }\n",
       "\n",
       "    .dataframe thead th {\n",
       "        text-align: right;\n",
       "    }\n",
       "</style>\n",
       "<table border=\"1\" class=\"dataframe\">\n",
       "  <thead>\n",
       "    <tr style=\"text-align: right;\">\n",
       "      <th></th>\n",
       "      <th>id_turma</th>\n",
       "      <th>media_aprovados</th>\n",
       "    </tr>\n",
       "  </thead>\n",
       "  <tbody>\n",
       "    <tr>\n",
       "      <th>0</th>\n",
       "      <td>1197615</td>\n",
       "      <td>7.010204</td>\n",
       "    </tr>\n",
       "    <tr>\n",
       "      <th>1</th>\n",
       "      <td>1197616</td>\n",
       "      <td>7.031250</td>\n",
       "    </tr>\n",
       "    <tr>\n",
       "      <th>2</th>\n",
       "      <td>1198464</td>\n",
       "      <td>6.727273</td>\n",
       "    </tr>\n",
       "    <tr>\n",
       "      <th>3</th>\n",
       "      <td>1198466</td>\n",
       "      <td>7.208696</td>\n",
       "    </tr>\n",
       "    <tr>\n",
       "      <th>4</th>\n",
       "      <td>1198499</td>\n",
       "      <td>6.451852</td>\n",
       "    </tr>\n",
       "  </tbody>\n",
       "</table>\n",
       "</div>"
      ],
      "text/plain": [
       "   id_turma  media_aprovados\n",
       "0   1197615         7.010204\n",
       "1   1197616         7.031250\n",
       "2   1198464         6.727273\n",
       "3   1198466         7.208696\n",
       "4   1198499         6.451852"
      ]
     },
     "execution_count": 23,
     "metadata": {},
     "output_type": "execute_result"
    }
   ],
   "source": [
    "df_aprovados = df_matriculas[df_matriculas['descricao'] == 'APROVADO']\n",
    "df_media_aprovados = df_aprovados.groupby('id_turma')['media_final'].mean().to_frame('media_aprovados').reset_index(level=0)\n",
    "\n",
    "df_media_aprovados.head()"
   ]
  },
  {
   "cell_type": "code",
   "execution_count": 24,
   "metadata": {
    "collapsed": true,
    "scrolled": true
   },
   "outputs": [],
   "source": [
    "#media_turma = df_matriculas.groupby('id_turma')['media_final'].mean().to_frame('média').reset_index(level=0)\n",
    "#media_turma.head()"
   ]
  },
  {
   "cell_type": "code",
   "execution_count": 25,
   "metadata": {
    "collapsed": true
   },
   "outputs": [],
   "source": [
    "df_porcentagem = df_matriculas.groupby('id_turma')['descricao'].value_counts(normalize=True).to_frame('aprovados')"
   ]
  },
  {
   "cell_type": "code",
   "execution_count": 26,
   "metadata": {
    "scrolled": true
   },
   "outputs": [
    {
     "data": {
      "text/html": [
       "<div>\n",
       "<style scoped>\n",
       "    .dataframe tbody tr th:only-of-type {\n",
       "        vertical-align: middle;\n",
       "    }\n",
       "\n",
       "    .dataframe tbody tr th {\n",
       "        vertical-align: top;\n",
       "    }\n",
       "\n",
       "    .dataframe thead th {\n",
       "        text-align: right;\n",
       "    }\n",
       "</style>\n",
       "<table border=\"1\" class=\"dataframe\">\n",
       "  <thead>\n",
       "    <tr style=\"text-align: right;\">\n",
       "      <th></th>\n",
       "      <th>id_turma</th>\n",
       "      <th>aprovados</th>\n",
       "    </tr>\n",
       "  </thead>\n",
       "  <tbody>\n",
       "    <tr>\n",
       "      <th>0</th>\n",
       "      <td>1197615</td>\n",
       "      <td>0.840000</td>\n",
       "    </tr>\n",
       "    <tr>\n",
       "      <th>2</th>\n",
       "      <td>1197616</td>\n",
       "      <td>0.578313</td>\n",
       "    </tr>\n",
       "    <tr>\n",
       "      <th>4</th>\n",
       "      <td>1198464</td>\n",
       "      <td>0.846154</td>\n",
       "    </tr>\n",
       "    <tr>\n",
       "      <th>7</th>\n",
       "      <td>1198466</td>\n",
       "      <td>0.482517</td>\n",
       "    </tr>\n",
       "    <tr>\n",
       "      <th>9</th>\n",
       "      <td>1198499</td>\n",
       "      <td>0.462857</td>\n",
       "    </tr>\n",
       "  </tbody>\n",
       "</table>\n",
       "</div>"
      ],
      "text/plain": [
       "   id_turma  aprovados\n",
       "0   1197615   0.840000\n",
       "2   1197616   0.578313\n",
       "4   1198464   0.846154\n",
       "7   1198466   0.482517\n",
       "9   1198499   0.462857"
      ]
     },
     "execution_count": 26,
     "metadata": {},
     "output_type": "execute_result"
    }
   ],
   "source": [
    "df_porcentagem = df_porcentagem.reset_index(level=[0, 1])\n",
    "df_porcentagem = df_porcentagem[~df_porcentagem['descricao'].isin(['REPROVADO'])]\n",
    "df_porcentagem = df_porcentagem[['id_turma', 'aprovados']]\n",
    "df_porcentagem.head()"
   ]
  },
  {
   "cell_type": "code",
   "execution_count": 27,
   "metadata": {},
   "outputs": [
    {
     "data": {
      "text/html": [
       "<div>\n",
       "<style scoped>\n",
       "    .dataframe tbody tr th:only-of-type {\n",
       "        vertical-align: middle;\n",
       "    }\n",
       "\n",
       "    .dataframe tbody tr th {\n",
       "        vertical-align: top;\n",
       "    }\n",
       "\n",
       "    .dataframe thead th {\n",
       "        text-align: right;\n",
       "    }\n",
       "</style>\n",
       "<table border=\"1\" class=\"dataframe\">\n",
       "  <thead>\n",
       "    <tr style=\"text-align: right;\">\n",
       "      <th></th>\n",
       "      <th>id_docente</th>\n",
       "      <th>id_turma</th>\n",
       "      <th>qtd_discentes</th>\n",
       "      <th>postura_profissional</th>\n",
       "      <th>postura_profissional_DP</th>\n",
       "      <th>atuacao_profissional</th>\n",
       "      <th>atuacao_profissional_DP</th>\n",
       "      <th>media_aprovados</th>\n",
       "      <th>aprovados</th>\n",
       "    </tr>\n",
       "  </thead>\n",
       "  <tbody>\n",
       "    <tr>\n",
       "      <th>0</th>\n",
       "      <td>22764</td>\n",
       "      <td>1233659</td>\n",
       "      <td>17</td>\n",
       "      <td>9.09</td>\n",
       "      <td>1.57</td>\n",
       "      <td>9.00</td>\n",
       "      <td>1.60</td>\n",
       "      <td>6.670588</td>\n",
       "      <td>0.739130</td>\n",
       "    </tr>\n",
       "    <tr>\n",
       "      <th>1</th>\n",
       "      <td>22764</td>\n",
       "      <td>1233661</td>\n",
       "      <td>36</td>\n",
       "      <td>9.48</td>\n",
       "      <td>1.26</td>\n",
       "      <td>9.43</td>\n",
       "      <td>1.20</td>\n",
       "      <td>6.842857</td>\n",
       "      <td>0.882353</td>\n",
       "    </tr>\n",
       "    <tr>\n",
       "      <th>2</th>\n",
       "      <td>22764</td>\n",
       "      <td>1242644</td>\n",
       "      <td>34</td>\n",
       "      <td>9.41</td>\n",
       "      <td>1.04</td>\n",
       "      <td>8.86</td>\n",
       "      <td>1.73</td>\n",
       "      <td>7.603030</td>\n",
       "      <td>0.916667</td>\n",
       "    </tr>\n",
       "    <tr>\n",
       "      <th>3</th>\n",
       "      <td>22764</td>\n",
       "      <td>57566712</td>\n",
       "      <td>36</td>\n",
       "      <td>9.81</td>\n",
       "      <td>0.51</td>\n",
       "      <td>9.48</td>\n",
       "      <td>1.35</td>\n",
       "      <td>7.578788</td>\n",
       "      <td>0.860870</td>\n",
       "    </tr>\n",
       "    <tr>\n",
       "      <th>4</th>\n",
       "      <td>22764</td>\n",
       "      <td>57566818</td>\n",
       "      <td>14</td>\n",
       "      <td>9.69</td>\n",
       "      <td>0.48</td>\n",
       "      <td>8.13</td>\n",
       "      <td>2.44</td>\n",
       "      <td>7.458333</td>\n",
       "      <td>0.837209</td>\n",
       "    </tr>\n",
       "  </tbody>\n",
       "</table>\n",
       "</div>"
      ],
      "text/plain": [
       "   id_docente  id_turma  qtd_discentes  postura_profissional  \\\n",
       "0       22764   1233659             17                  9.09   \n",
       "1       22764   1233661             36                  9.48   \n",
       "2       22764   1242644             34                  9.41   \n",
       "3       22764  57566712             36                  9.81   \n",
       "4       22764  57566818             14                  9.69   \n",
       "\n",
       "   postura_profissional_DP  atuacao_profissional  atuacao_profissional_DP  \\\n",
       "0                     1.57                  9.00                     1.60   \n",
       "1                     1.26                  9.43                     1.20   \n",
       "2                     1.04                  8.86                     1.73   \n",
       "3                     0.51                  9.48                     1.35   \n",
       "4                     0.48                  8.13                     2.44   \n",
       "\n",
       "   media_aprovados  aprovados  \n",
       "0         6.670588   0.739130  \n",
       "1         6.842857   0.882353  \n",
       "2         7.603030   0.916667  \n",
       "3         7.578788   0.860870  \n",
       "4         7.458333   0.837209  "
      ]
     },
     "execution_count": 27,
     "metadata": {},
     "output_type": "execute_result"
    }
   ],
   "source": [
    "df_avaliacoes = df_avaliacoes.merge(df_media_aprovados, on='id_turma', how='left')\n",
    "df_avaliacoes = df_avaliacoes.merge(df_porcentagem, on='id_turma', how='left')\n",
    "df_avaliacoes.head()"
   ]
  },
  {
   "cell_type": "code",
   "execution_count": 28,
   "metadata": {
    "collapsed": true
   },
   "outputs": [],
   "source": [
    "df_avaliacoes.to_csv('avaliacao.csv', sep=';', index=False)\n",
    "df_componente_lotacao.to_csv('componente_lotacao.csv', sep=';', index=False)\n",
    "df_componente_curricular.to_csv('componente_curricular.csv', sep=';', index=False)\n",
    "df_docentes.to_csv('docente.csv', sep=';', index=False)\n",
    "df_unidades.to_csv('unidade.csv', sep=';', index=False)\n",
    "df_turmas.to_csv('turma.csv', sep=';', index=False)"
   ]
  },
  {
   "cell_type": "code",
   "execution_count": 1,
   "metadata": {},
   "outputs": [],
   "source": [
    "import pandas as pd\n",
    "import requests\n",
    "import json\n",
    "\n",
    "api_url = 'http://localhost:8080/'\n",
    "\n",
    "def make_post(df, endpoint):\n",
    "    records = json.loads(df.to_json(orient='records'))\n",
    "    for record in records:\n",
    "        request = requests.post(endpoint, data=json.dumps(record), headers={'Content-Type': 'application/json'})\n",
    "        #print request.text\n",
    "        if not request.ok:\n",
    "            break\n",
    "\n",
    "def insert(df_url, endpoint):\n",
    "    df = pd.read_csv(df_url, sep=';')\n",
    "    make_post(df, endpoint)\n",
    "\n",
    "def insert_componentes():\n",
    "    df_lotacao = pd.read_csv('componente_lotacao.csv', sep=';')\n",
    "    df_curricular = pd.read_csv('componente_curricular.csv', sep=';')\n",
    "    df = df_lotacao.merge(df_curricular, on='codigo')\n",
    "    make_post(df, api_url+'componente')\n",
    "\n",
    "if __name__ == '__main__':\n",
    "    #insert('unidade.csv', api_url+'unidade')\n",
    "    #insert('docente.csv', api_url+'docente')\n",
    "    #insert_componentes()\n",
    "    #insert('turma.csv', api_url+'turma')\n",
    "    insert('avaliacao.csv', api_url+'avaliacao')"
   ]
  },
  {
   "cell_type": "code",
   "execution_count": null,
   "metadata": {
    "collapsed": true
   },
   "outputs": [],
   "source": []
  }
 ],
 "metadata": {
  "kernelspec": {
   "display_name": "Python 2",
   "language": "python",
   "name": "python2"
  },
  "language_info": {
   "codemirror_mode": {
    "name": "ipython",
    "version": 2
   },
   "file_extension": ".py",
   "mimetype": "text/x-python",
   "name": "python",
   "nbconvert_exporter": "python",
   "pygments_lexer": "ipython2",
   "version": "2.7.13+"
  }
 },
 "nbformat": 4,
 "nbformat_minor": 2
}
